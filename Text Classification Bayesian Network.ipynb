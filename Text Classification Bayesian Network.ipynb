{
 "cells": [
  {
   "cell_type": "markdown",
   "metadata": {},
   "source": [
    "# This project is aimed on testing of a Bayesian Network text classification"
   ]
  },
  {
   "cell_type": "markdown",
   "metadata": {},
   "source": [
    "In this project, we will use Fast Text pre-trained embeddings for encoding specific words with a consequent PCA dimensionality reduction\n",
    "\n",
    "The approach above is used to encode a text and get a reasonable amount of features to feed in a Bayesian Network\n",
    "\n",
    "The project is going to work with a Mongo Database from the [Peony project](https://github.com/sahanmar/Peony/tree/master/Peony_project/Peony_database)"
   ]
  },
  {
   "cell_type": "markdown",
   "metadata": {},
   "source": [
    "### General Imports"
   ]
  },
  {
   "cell_type": "code",
   "execution_count": 1,
   "metadata": {},
   "outputs": [],
   "source": [
    "import os\n",
    "import pandas as pd\n",
    "import numpy as np\n",
    "import appdirs\n",
    "import matplotlib.pyplot as plt\n",
    "\n",
    "from torch import torch\n",
    "\n",
    "from sklearn.utils import shuffle\n",
    "from sklearn.decomposition import PCA\n",
    "from sklearn.metrics import roc_curve, auc, precision_recall_curve\n",
    "\n",
    "from pathlib import Path\n",
    "from typing import List\n",
    "from joblib import Memory"
   ]
  },
  {
   "cell_type": "markdown",
   "metadata": {},
   "source": [
    "## Getting The Data and Encode Them"
   ]
  },
  {
   "cell_type": "markdown",
   "metadata": {},
   "source": [
    "As written previously we will the data from Peony project. We will work with [Huffpost Dataset](https://www.kaggle.com/rmisra/news-category-dataset/home). The article texts were scraped from the links given in the dataset."
   ]
  },
  {
   "cell_type": "markdown",
   "metadata": {},
   "source": [
    "### Load Sports and Comedy datasets"
   ]
  },
  {
   "cell_type": "code",
   "execution_count": 2,
   "metadata": {},
   "outputs": [],
   "source": [
    "from PeonyPackage.PeonyDb import MongoDb"
   ]
  },
  {
   "cell_type": "code",
   "execution_count": 3,
   "metadata": {},
   "outputs": [],
   "source": [
    "api = MongoDb()\n",
    " \n",
    "# Sports records\n",
    "records_1 = api.get_record(\n",
    "        collection_name=\"HuffPost_dataset\",\n",
    "        collection_id=1,\n",
    "        label=\"SPORTS\",\n",
    "        limit=500,\n",
    "    )\n",
    "\n",
    "# Comedy records\n",
    "records_2 = api.get_record(\n",
    "        collection_name=\"HuffPost_dataset\",\n",
    "        collection_id=1,\n",
    "        label=\"COMEDY\",\n",
    "        limit=500,\n",
    "    )\n",
    "\n",
    "# Stack records and labels with shuffling them\n",
    "instances = records_1 + records_2\n",
    "labels = [sample[\"record\"][\"label\"] for sample in records_1 + records_2]\n",
    "instances_from_db, labels_from_db = shuffle(instances, labels, random_state=0)"
   ]
  },
  {
   "cell_type": "markdown",
   "metadata": {},
   "source": [
    "### Example of the Sport category text "
   ]
  },
  {
   "cell_type": "code",
   "execution_count": 4,
   "metadata": {},
   "outputs": [
    {
     "name": "stdout",
     "output_type": "stream",
     "text": [
      "\n",
      "\u001b[1m Muhammad Ali Calls For Iran To Release Jailed WaPo Reporter \u001b[0m \n",
      "\n",
      "Boxing legend Muhammad Ali is lending his voice to call for the release of Jason Rezaian, a Washington Post reporter who has been detained in Iran since July 2014 for unclear reasons.\n",
      "In a statement issued Thursday by the National Press Club, Ali called Rezaian \"a man of peace and great faith, a man whose dedication and respect for the Iranian people is evident in his work.\"\n",
      "Rezaian holds dual U.S.-Iranian citizenship and had been working in Iran as a journalist since 2008, before becoming the Post's Tehran correspondent in 2012. Rezaian and his wife, Yeganeh Salehi, were arrested on July 22. Salehi, also a Tehran-based journalist, was released on bail in October.\n",
      "Rezaian's family has been pleading for his release and U.S. lawmakers last year urged Secretary of State John Kerry to \"prioritize\" Rezaian's case in nuclear negotiations with Iran.\n",
      "Ali said it is his \"great hope\" that Iran will end Rezaian's \"prolonged detention\" and \"provide him with access to all his legal options.\"\n",
      "The NPC said no other Western journalist has been held for as long a time as Rezaian and that until recently he had been denied medical care and a lawyer. It added that charged against Rezaian have never been disclosed or made public. \n",
      "Read Ali's full statement:\n",
      "\n",
      "With the Name of Allah, The Beneficent, The Merciful\n",
      "\"I am sorry that I cannot be physically present to lend my support in person but I pray my words will provide relief to the efforts to secure the release of Jason Rezaian.\n",
      "Insha'Allah. It is my great hope that the government and judiciary of Iran will end the prolonged detention of journalist Jason Rezaian and provide him with access to all his legal options. During his time as the Washington Post bureau chief in Tehran, Jason used his gift of writing and intimate knowledge of the country to share the stories of the people and culture of Iran to the world.\n",
      "To my knowledge Jason is a man of peace and great faith, a man whose dedication and respect for the Iranian people is evident in his work.\n",
      "I support his family, friends and colleagues in their efforts to obtain his release\"\n",
      "Muhammad Ali\n"
     ]
    }
   ],
   "source": [
    "print(\"\\n\\033[1m\",records_1[0][\"record\"][\"text\"][\"title\"],'\\033[0m',\"\\n\") # bold text title\n",
    "print(records_1[0][\"record\"][\"text\"][\"body\"].strip()) # article body"
   ]
  },
  {
   "cell_type": "markdown",
   "metadata": {},
   "source": [
    "### Example of the Comedy category text "
   ]
  },
  {
   "cell_type": "code",
   "execution_count": 5,
   "metadata": {},
   "outputs": [
    {
     "name": "stdout",
     "output_type": "stream",
     "text": [
      "\n",
      "\u001b[1m Black Thursday \u001b[0m \n",
      "\n",
      "\"Christmas ain't Christmas till somebody cries,\" says Donkey, in Shrek the Halls.\n",
      "It's only Thanksgiving and even now I'm searching for the box of tissues. I'm already stressed and I like my family. Most of the time.  \n",
      "I'm trying to be grateful, even when my mom claims the chicken broth is vegetarian.\n",
      "\"Mom, there's a chicken on the box.\"\n",
      "\"That's just advertising...\"\n",
      "My brother interrupts, \"Are you sure this is a tablespoon? I mean, it says tablespoon but I thought tablespoons were bigger.\"\n",
      "My mom confirms the measurement and suggests he puts the mixer on low.\n",
      "\"I think I gotta do some more beating, first,\" he says.\n",
      "I look at a crock pot on the table, an easily accessible weapon. I agree, friend, I agree.\n",
      "\n",
      "I decide to leave homicide to the truly troubled and focus on being grateful. Fortunately, with the chaos comes their Griswold-style comedy that makes them so loveable (and great article fodder).\n",
      "I'm grateful for my mom, who really just wants to be sure I'm getting my protein. For my dad, whose tryptophan-induced nap may cause the house to burn down when he nods off, cigar in hand. I'm thankful for my brother, who makes up for lack of cooking skills with admirable enthusiasm and his new dog, who acts as a fluffy conversation barrier while bringing the animal tally to three dogs, one bird (deceased), and one Cat.\n",
      "I'm working in the kitchen when my mom looks over at the turkey, \"I think he has a broken leg.\"\n",
      "\"Mom, he died of massive head trauma. I think a broken leg is the least of his problems.\"\n",
      "She rolls her eyes at me and continues to butter the Butterball. \n",
      "Then, out of the silence comes, \"Does anybody want to pet the turkey?\" Only the fierce, southern woman that is my mother can look at an unpardoned, skinned bird, and turn him into a cartoon. \"Catherine?\" she says, \"you want to name him?\"\n",
      "Along with turkey and casseroles, vegetarian jokes are a Castellanos family tradition.\n",
      "\n",
      "Walking out of the kitchen, I declare, \"Let them eat turkey.\"\n"
     ]
    }
   ],
   "source": [
    "print(\"\\n\\033[1m\",records_2[1][\"record\"][\"text\"][\"title\"],'\\033[0m',\"\\n\") # bold text title\n",
    "print(records_2[1][\"record\"][\"text\"][\"body\"].strip()) # article body"
   ]
  },
  {
   "cell_type": "markdown",
   "metadata": {},
   "source": [
    "### Fast Text Encoding"
   ]
  },
  {
   "cell_type": "markdown",
   "metadata": {},
   "source": [
    "Fast Text model is a pre-trained model that works in a way of a hashmap where every word is assigned to a 300 component vector. The word corpus contains 1 million words and its pre-trained vectors. If there an unknown token in a text that has no vector representation it is assigned to a zero vector.\n",
    "\n",
    "The theory behind Fast Text is covered [here](https://amitness.com/2020/06/fasttext-embeddings/). "
   ]
  },
  {
   "cell_type": "markdown",
   "metadata": {},
   "source": [
    "### Peony project encoding methods\n",
    "\n",
    "[Peony](https://github.com/sahanmar/Peony) project has a complete implementation of text encoding. The encoding process is provided concerning a sentence. We split the text into sentences. Each sentence is split into word tokens. Sentence encoding is obtained as a mean value over all word embeddings for the sentence.\n",
    "\n",
    "Text encoding proces is done as:\n",
    "\n",
    "Text -> Sentence Split -> Word Tokens -> Words to vectors -> Word vectors mean over a sentnce -> Sentence vectors mean over a text"
   ]
  },
  {
   "cell_type": "code",
   "execution_count": 6,
   "metadata": {},
   "outputs": [
    {
     "name": "stderr",
     "output_type": "stream",
     "text": [
      "100%|██████████| 1000/1000 [00:00<00:00, 364405.21it/s]"
     ]
    },
    {
     "name": "stdout",
     "output_type": "stream",
     "text": [
      "transforming data...\n"
     ]
    },
    {
     "name": "stderr",
     "output_type": "stream",
     "text": [
      "\n",
      "  0%|          | 8/20207 [00:00<04:17, 78.53it/s]"
     ]
    },
    {
     "name": "stdout",
     "output_type": "stream",
     "text": [
      "creating (words -> embeddings) hash map...\n"
     ]
    },
    {
     "name": "stderr",
     "output_type": "stream",
     "text": [
      "100%|██████████| 20207/20207 [00:53<00:00, 378.00it/s]\n",
      "100%|██████████| 1000/1000 [00:00<00:00, 622947.27it/s]\n"
     ]
    },
    {
     "name": "stdout",
     "output_type": "stream",
     "text": [
      "creating labels encoding hash map...\n"
     ]
    },
    {
     "name": "stderr",
     "output_type": "stream",
     "text": [
      "100%|██████████| 1000/1000 [00:00<00:00, 1536375.09it/s]\n"
     ]
    }
   ],
   "source": [
    "#change path to Peony project to get the classes for Fast Text embeddings\n",
    "path = Path(\"../Peony/Peony_project\")\n",
    "os.chdir(path)\n",
    "\n",
    "from Peony_box.src.transformators.HuffPost_transformator import (\n",
    "    FastTextWordEmbeddings as transformator,\n",
    ")\n",
    "\n",
    "# Get a class to transform words to pretrained embeddings\n",
    "HuffPostTransform = transformator()\n",
    "HuffPostTransform.fit(instances_from_db, labels_from_db)\n",
    "\n",
    "# Do the transformation\n",
    "instances = HuffPostTransform.transform_instances(instances_from_db)\n",
    "labels = HuffPostTransform.transform_labels(labels_from_db)"
   ]
  },
  {
   "cell_type": "markdown",
   "metadata": {},
   "source": [
    "### Example of a text encoding"
   ]
  },
  {
   "cell_type": "code",
   "execution_count": 7,
   "metadata": {},
   "outputs": [
    {
     "name": "stdout",
     "output_type": "stream",
     "text": [
      "Size of the corpus is 1000 texts\n",
      "Size of the first SHUFFLED text is 4 sentences\n",
      "Size of the all sentence tokens in texts is 300\n"
     ]
    }
   ],
   "source": [
    "print(f\"Size of the corpus is {len(instances)} texts\")\n",
    "print(f\"Size of the first SHUFFLED text is {len(instances[0])} sentences\")\n",
    "# Sentence tokens are calculated as mean value through word tokens with respect to the sentence\n",
    "print(f\"Size of the all sentence tokens in texts is {len(instances[0][0])}\")"
   ]
  },
  {
   "cell_type": "markdown",
   "metadata": {},
   "source": [
    "### Text Encoding\n",
    "Text encoding is done as a mean value of the sentence tokens through all sentences with respect to a text"
   ]
  },
  {
   "cell_type": "code",
   "execution_count": 8,
   "metadata": {},
   "outputs": [],
   "source": [
    "encoded_instances = [torch.mean(torch.stack(instance),dim=0) for instance in instances]"
   ]
  },
  {
   "cell_type": "markdown",
   "metadata": {},
   "source": [
    "### Dimensionality Reduction for Transfering features to a Bayesian Network"
   ]
  },
  {
   "cell_type": "markdown",
   "metadata": {},
   "source": [
    "#### PCA dimensionality reduction\n",
    "\n",
    "In this project different experiments with the optimal number of dimensions were tried. However, empirically it was found out that 7 components work the best!"
   ]
  },
  {
   "cell_type": "code",
   "execution_count": 9,
   "metadata": {},
   "outputs": [
    {
     "data": {
      "text/plain": [
       "PCA(n_components=7)"
      ]
     },
     "execution_count": 9,
     "metadata": {},
     "output_type": "execute_result"
    }
   ],
   "source": [
    "# find the most important dimensions with respect to PCA algo and limit them to n_components dims\n",
    "n_components = 7\n",
    "pca = PCA(n_components=n_components)\n",
    "pca.fit(torch.stack(encoded_instances))"
   ]
  },
  {
   "cell_type": "code",
   "execution_count": 10,
   "metadata": {},
   "outputs": [],
   "source": [
    "# Choose the most important dims with respect to our data\n",
    "pca_encoded_instances = [pca.transform(instance.reshape(1,-1).detach().numpy())[0] for instance in encoded_instances]"
   ]
  },
  {
   "cell_type": "markdown",
   "metadata": {},
   "source": [
    "## Data Discretization\n",
    "\n",
    "The data are continuous. Thus, to have better discriminability and distribution estimates, we decided to provide data binning and rescale the data on the interval [0,1]"
   ]
  },
  {
   "cell_type": "code",
   "execution_count": 11,
   "metadata": {},
   "outputs": [],
   "source": [
    "headers = [f\"feature {i}\" for i in range(n_components)]\n",
    "df = pd.DataFrame(pca_encoded_instances)\n",
    "df.columns = headers"
   ]
  },
  {
   "cell_type": "markdown",
   "metadata": {},
   "source": [
    "#### Visualization of 10 rows of the pre-discretized table"
   ]
  },
  {
   "cell_type": "code",
   "execution_count": 12,
   "metadata": {},
   "outputs": [
    {
     "data": {
      "text/html": [
       "<div>\n",
       "<style scoped>\n",
       "    .dataframe tbody tr th:only-of-type {\n",
       "        vertical-align: middle;\n",
       "    }\n",
       "\n",
       "    .dataframe tbody tr th {\n",
       "        vertical-align: top;\n",
       "    }\n",
       "\n",
       "    .dataframe thead th {\n",
       "        text-align: right;\n",
       "    }\n",
       "</style>\n",
       "<table border=\"1\" class=\"dataframe\">\n",
       "  <thead>\n",
       "    <tr style=\"text-align: right;\">\n",
       "      <th></th>\n",
       "      <th>feature 0</th>\n",
       "      <th>feature 1</th>\n",
       "      <th>feature 2</th>\n",
       "      <th>feature 3</th>\n",
       "      <th>feature 4</th>\n",
       "      <th>feature 5</th>\n",
       "      <th>feature 6</th>\n",
       "    </tr>\n",
       "  </thead>\n",
       "  <tbody>\n",
       "    <tr>\n",
       "      <th>0</th>\n",
       "      <td>-0.092985</td>\n",
       "      <td>0.024344</td>\n",
       "      <td>-0.085124</td>\n",
       "      <td>0.059167</td>\n",
       "      <td>-0.046396</td>\n",
       "      <td>-0.029808</td>\n",
       "      <td>-0.009088</td>\n",
       "    </tr>\n",
       "    <tr>\n",
       "      <th>1</th>\n",
       "      <td>0.010930</td>\n",
       "      <td>0.057846</td>\n",
       "      <td>-0.056320</td>\n",
       "      <td>-0.038864</td>\n",
       "      <td>-0.025616</td>\n",
       "      <td>0.020377</td>\n",
       "      <td>-0.032831</td>\n",
       "    </tr>\n",
       "    <tr>\n",
       "      <th>2</th>\n",
       "      <td>0.029804</td>\n",
       "      <td>0.045558</td>\n",
       "      <td>0.104484</td>\n",
       "      <td>0.025410</td>\n",
       "      <td>0.006001</td>\n",
       "      <td>0.081730</td>\n",
       "      <td>0.067939</td>\n",
       "    </tr>\n",
       "    <tr>\n",
       "      <th>3</th>\n",
       "      <td>0.007272</td>\n",
       "      <td>-0.014316</td>\n",
       "      <td>-0.030930</td>\n",
       "      <td>-0.002503</td>\n",
       "      <td>-0.031960</td>\n",
       "      <td>0.030446</td>\n",
       "      <td>0.011406</td>\n",
       "    </tr>\n",
       "    <tr>\n",
       "      <th>4</th>\n",
       "      <td>0.069869</td>\n",
       "      <td>0.208424</td>\n",
       "      <td>-0.215197</td>\n",
       "      <td>-0.140886</td>\n",
       "      <td>0.169987</td>\n",
       "      <td>0.071653</td>\n",
       "      <td>0.023002</td>\n",
       "    </tr>\n",
       "    <tr>\n",
       "      <th>5</th>\n",
       "      <td>0.123408</td>\n",
       "      <td>-0.078570</td>\n",
       "      <td>-0.064234</td>\n",
       "      <td>-0.029003</td>\n",
       "      <td>-0.024084</td>\n",
       "      <td>0.072318</td>\n",
       "      <td>-0.013226</td>\n",
       "    </tr>\n",
       "    <tr>\n",
       "      <th>6</th>\n",
       "      <td>-0.086955</td>\n",
       "      <td>0.024372</td>\n",
       "      <td>0.196306</td>\n",
       "      <td>-0.125876</td>\n",
       "      <td>-0.107484</td>\n",
       "      <td>-0.104929</td>\n",
       "      <td>-0.012064</td>\n",
       "    </tr>\n",
       "    <tr>\n",
       "      <th>7</th>\n",
       "      <td>-0.023052</td>\n",
       "      <td>0.083267</td>\n",
       "      <td>-0.023772</td>\n",
       "      <td>-0.018034</td>\n",
       "      <td>-0.013690</td>\n",
       "      <td>0.039793</td>\n",
       "      <td>-0.053288</td>\n",
       "    </tr>\n",
       "    <tr>\n",
       "      <th>8</th>\n",
       "      <td>-0.024671</td>\n",
       "      <td>0.037867</td>\n",
       "      <td>0.090773</td>\n",
       "      <td>0.017185</td>\n",
       "      <td>-0.019809</td>\n",
       "      <td>0.015853</td>\n",
       "      <td>0.043911</td>\n",
       "    </tr>\n",
       "    <tr>\n",
       "      <th>9</th>\n",
       "      <td>-0.130826</td>\n",
       "      <td>0.148558</td>\n",
       "      <td>-0.067179</td>\n",
       "      <td>0.145317</td>\n",
       "      <td>-0.108877</td>\n",
       "      <td>0.000320</td>\n",
       "      <td>-0.050817</td>\n",
       "    </tr>\n",
       "  </tbody>\n",
       "</table>\n",
       "</div>"
      ],
      "text/plain": [
       "   feature 0  feature 1  feature 2  feature 3  feature 4  feature 5  feature 6\n",
       "0  -0.092985   0.024344  -0.085124   0.059167  -0.046396  -0.029808  -0.009088\n",
       "1   0.010930   0.057846  -0.056320  -0.038864  -0.025616   0.020377  -0.032831\n",
       "2   0.029804   0.045558   0.104484   0.025410   0.006001   0.081730   0.067939\n",
       "3   0.007272  -0.014316  -0.030930  -0.002503  -0.031960   0.030446   0.011406\n",
       "4   0.069869   0.208424  -0.215197  -0.140886   0.169987   0.071653   0.023002\n",
       "5   0.123408  -0.078570  -0.064234  -0.029003  -0.024084   0.072318  -0.013226\n",
       "6  -0.086955   0.024372   0.196306  -0.125876  -0.107484  -0.104929  -0.012064\n",
       "7  -0.023052   0.083267  -0.023772  -0.018034  -0.013690   0.039793  -0.053288\n",
       "8  -0.024671   0.037867   0.090773   0.017185  -0.019809   0.015853   0.043911\n",
       "9  -0.130826   0.148558  -0.067179   0.145317  -0.108877   0.000320  -0.050817"
      ]
     },
     "execution_count": 12,
     "metadata": {},
     "output_type": "execute_result"
    }
   ],
   "source": [
    "df[:10]"
   ]
  },
  {
   "cell_type": "code",
   "execution_count": 13,
   "metadata": {},
   "outputs": [],
   "source": [
    "def discretize_array(data: List[float], bins_num: int = 10) -> List[int]:\n",
    "    max_val = max(data)\n",
    "    min_val = min(data)\n",
    "    bins = np.linspace(min_val, max_val, bins_num)\n",
    "    digitized = np.digitize(data, bins)\n",
    "    return digitized/bins_num"
   ]
  },
  {
   "cell_type": "code",
   "execution_count": 14,
   "metadata": {},
   "outputs": [],
   "source": [
    "categorical_df = pd.DataFrame()\n",
    "categorical_df[\"article\"] = labels\n",
    "for i in range(n_components):\n",
    "    categorical_df[f\"feature {i}\"] = discretize_array(df[f\"feature {i}\"])"
   ]
  },
  {
   "cell_type": "markdown",
   "metadata": {},
   "source": [
    "#### Visualization of 10 rows of the pre-descretized table\n",
    "\n",
    "First column represents the data class, the rest show the features that will help us to provide a classification"
   ]
  },
  {
   "cell_type": "code",
   "execution_count": 15,
   "metadata": {},
   "outputs": [
    {
     "data": {
      "text/html": [
       "<div>\n",
       "<style scoped>\n",
       "    .dataframe tbody tr th:only-of-type {\n",
       "        vertical-align: middle;\n",
       "    }\n",
       "\n",
       "    .dataframe tbody tr th {\n",
       "        vertical-align: top;\n",
       "    }\n",
       "\n",
       "    .dataframe thead th {\n",
       "        text-align: right;\n",
       "    }\n",
       "</style>\n",
       "<table border=\"1\" class=\"dataframe\">\n",
       "  <thead>\n",
       "    <tr style=\"text-align: right;\">\n",
       "      <th></th>\n",
       "      <th>article</th>\n",
       "      <th>feature 0</th>\n",
       "      <th>feature 1</th>\n",
       "      <th>feature 2</th>\n",
       "      <th>feature 3</th>\n",
       "      <th>feature 4</th>\n",
       "      <th>feature 5</th>\n",
       "      <th>feature 6</th>\n",
       "    </tr>\n",
       "  </thead>\n",
       "  <tbody>\n",
       "    <tr>\n",
       "      <th>0</th>\n",
       "      <td>1</td>\n",
       "      <td>0.1</td>\n",
       "      <td>0.3</td>\n",
       "      <td>0.3</td>\n",
       "      <td>0.5</td>\n",
       "      <td>0.4</td>\n",
       "      <td>0.2</td>\n",
       "      <td>0.4</td>\n",
       "    </tr>\n",
       "    <tr>\n",
       "      <th>1</th>\n",
       "      <td>1</td>\n",
       "      <td>0.2</td>\n",
       "      <td>0.3</td>\n",
       "      <td>0.4</td>\n",
       "      <td>0.3</td>\n",
       "      <td>0.4</td>\n",
       "      <td>0.3</td>\n",
       "      <td>0.3</td>\n",
       "    </tr>\n",
       "    <tr>\n",
       "      <th>2</th>\n",
       "      <td>0</td>\n",
       "      <td>0.2</td>\n",
       "      <td>0.3</td>\n",
       "      <td>0.7</td>\n",
       "      <td>0.4</td>\n",
       "      <td>0.5</td>\n",
       "      <td>0.4</td>\n",
       "      <td>0.6</td>\n",
       "    </tr>\n",
       "    <tr>\n",
       "      <th>3</th>\n",
       "      <td>1</td>\n",
       "      <td>0.2</td>\n",
       "      <td>0.2</td>\n",
       "      <td>0.4</td>\n",
       "      <td>0.4</td>\n",
       "      <td>0.4</td>\n",
       "      <td>0.3</td>\n",
       "      <td>0.4</td>\n",
       "    </tr>\n",
       "    <tr>\n",
       "      <th>4</th>\n",
       "      <td>1</td>\n",
       "      <td>0.3</td>\n",
       "      <td>0.4</td>\n",
       "      <td>0.1</td>\n",
       "      <td>0.1</td>\n",
       "      <td>0.7</td>\n",
       "      <td>0.4</td>\n",
       "      <td>0.5</td>\n",
       "    </tr>\n",
       "    <tr>\n",
       "      <th>5</th>\n",
       "      <td>1</td>\n",
       "      <td>0.3</td>\n",
       "      <td>0.2</td>\n",
       "      <td>0.4</td>\n",
       "      <td>0.3</td>\n",
       "      <td>0.4</td>\n",
       "      <td>0.4</td>\n",
       "      <td>0.4</td>\n",
       "    </tr>\n",
       "    <tr>\n",
       "      <th>6</th>\n",
       "      <td>0</td>\n",
       "      <td>0.1</td>\n",
       "      <td>0.3</td>\n",
       "      <td>0.9</td>\n",
       "      <td>0.1</td>\n",
       "      <td>0.3</td>\n",
       "      <td>0.1</td>\n",
       "      <td>0.4</td>\n",
       "    </tr>\n",
       "    <tr>\n",
       "      <th>7</th>\n",
       "      <td>0</td>\n",
       "      <td>0.2</td>\n",
       "      <td>0.3</td>\n",
       "      <td>0.4</td>\n",
       "      <td>0.3</td>\n",
       "      <td>0.5</td>\n",
       "      <td>0.4</td>\n",
       "      <td>0.3</td>\n",
       "    </tr>\n",
       "    <tr>\n",
       "      <th>8</th>\n",
       "      <td>0</td>\n",
       "      <td>0.2</td>\n",
       "      <td>0.3</td>\n",
       "      <td>0.7</td>\n",
       "      <td>0.4</td>\n",
       "      <td>0.4</td>\n",
       "      <td>0.3</td>\n",
       "      <td>0.5</td>\n",
       "    </tr>\n",
       "    <tr>\n",
       "      <th>9</th>\n",
       "      <td>1</td>\n",
       "      <td>0.1</td>\n",
       "      <td>0.4</td>\n",
       "      <td>0.4</td>\n",
       "      <td>0.7</td>\n",
       "      <td>0.3</td>\n",
       "      <td>0.3</td>\n",
       "      <td>0.3</td>\n",
       "    </tr>\n",
       "  </tbody>\n",
       "</table>\n",
       "</div>"
      ],
      "text/plain": [
       "   article  feature 0  feature 1  feature 2  feature 3  feature 4  feature 5  \\\n",
       "0        1        0.1        0.3        0.3        0.5        0.4        0.2   \n",
       "1        1        0.2        0.3        0.4        0.3        0.4        0.3   \n",
       "2        0        0.2        0.3        0.7        0.4        0.5        0.4   \n",
       "3        1        0.2        0.2        0.4        0.4        0.4        0.3   \n",
       "4        1        0.3        0.4        0.1        0.1        0.7        0.4   \n",
       "5        1        0.3        0.2        0.4        0.3        0.4        0.4   \n",
       "6        0        0.1        0.3        0.9        0.1        0.3        0.1   \n",
       "7        0        0.2        0.3        0.4        0.3        0.5        0.4   \n",
       "8        0        0.2        0.3        0.7        0.4        0.4        0.3   \n",
       "9        1        0.1        0.4        0.4        0.7        0.3        0.3   \n",
       "\n",
       "   feature 6  \n",
       "0        0.4  \n",
       "1        0.3  \n",
       "2        0.6  \n",
       "3        0.4  \n",
       "4        0.5  \n",
       "5        0.4  \n",
       "6        0.4  \n",
       "7        0.3  \n",
       "8        0.5  \n",
       "9        0.3  "
      ]
     },
     "execution_count": 15,
     "metadata": {},
     "output_type": "execute_result"
    }
   ],
   "source": [
    "categorical_df[:10]"
   ]
  },
  {
   "cell_type": "markdown",
   "metadata": {},
   "source": [
    "### Train Test Split\n",
    "\n",
    "In this project, we use 1000 data samples where 500 samples represent Sports and 500 samples represent Comedy categories. Sports category is represented as a category 1, Comedy category is represented as a category 0\n",
    "\n",
    "Train/Test split ration = 0.5"
   ]
  },
  {
   "cell_type": "code",
   "execution_count": 16,
   "metadata": {},
   "outputs": [],
   "source": [
    "split = 0.5\n",
    "index_2_split = int(len(categorical_df)*split)\n",
    "train_df = categorical_df[:index_2_split]\n",
    "test_df = categorical_df[index_2_split:]"
   ]
  },
  {
   "cell_type": "markdown",
   "metadata": {},
   "source": [
    "## Bayesian Network"
   ]
  },
  {
   "cell_type": "markdown",
   "metadata": {},
   "source": [
    "### Structure estimation"
   ]
  },
  {
   "cell_type": "markdown",
   "metadata": {},
   "source": [
    "Structure estimation is going to be done with the usage of Python libary [pgmpy](https://pgmpy.org)"
   ]
  },
  {
   "cell_type": "code",
   "execution_count": 17,
   "metadata": {},
   "outputs": [],
   "source": [
    "cachedir = Path(\"/Users/mark/Documents/Git/Dandelion/cache\")\n",
    "memory = Memory(cachedir)"
   ]
  },
  {
   "cell_type": "code",
   "execution_count": 18,
   "metadata": {},
   "outputs": [],
   "source": [
    "from pgmpy import estimators\n",
    "\n",
    "def estimate_structure_hc(data, scoring_method, show_progress=True):\n",
    "    Estimator = estimators.HillClimbSearch\n",
    "\n",
    "    est = Estimator(data, scoring_method)\n",
    "\n",
    "    # The estimated structure is cached because the estimation is computationally expensive.\n",
    "    estimate_cached = memory.cache(Estimator.estimate, ignore=['show_progress'], verbose=0)\n",
    "    return estimate_cached(est, scoring_method=scoring_method, show_progress=show_progress)"
   ]
  },
  {
   "cell_type": "code",
   "execution_count": 19,
   "metadata": {},
   "outputs": [
    {
     "name": "stderr",
     "output_type": "stream",
     "text": [
      "  0%|          | 1/1000000 [00:00<79:09:14,  3.51it/s]\n"
     ]
    }
   ],
   "source": [
    "dag = estimate_structure_hc(train_df, estimators.BicScore(train_df))"
   ]
  },
  {
   "cell_type": "markdown",
   "metadata": {},
   "source": [
    "The structure of the network is extremely simple. The search of the optimal graph showed that the best structure has only one connection and other features are independent. "
   ]
  },
  {
   "cell_type": "code",
   "execution_count": 20,
   "metadata": {},
   "outputs": [
    {
     "data": {
      "text/plain": [
       "<Axes:>"
      ]
     },
     "execution_count": 20,
     "metadata": {},
     "output_type": "execute_result"
    },
    {
     "data": {
      "image/png": "[encoded data removed]",
      "text/plain": [
       "<Figure size 318.898x318.898 with 1 Axes>"
      ]
     },
     "metadata": {},
     "output_type": "display_data"
    }
   ],
   "source": [
    "dag.to_daft(latex=False, node_pos='circular').render(150)"
   ]
  },
  {
   "cell_type": "markdown",
   "metadata": {},
   "source": [
    "Based on the graph the architecture became simple with only one dependency. Thus, we can explicitly calculate the probabilities and create the model"
   ]
  },
  {
   "cell_type": "markdown",
   "metadata": {},
   "source": [
    "### Probabilities Estimation"
   ]
  },
  {
   "cell_type": "code",
   "execution_count": 21,
   "metadata": {},
   "outputs": [],
   "source": [
    "first_cat_counts = pd.DataFrame(train_df[train_df[\"article\"] == 1][\"feature 2\"])\n",
    "first_cat_counts[\"counts\"] = [1]*len(first_cat_counts)\n",
    "\n",
    "total_counts = pd.DataFrame(train_df[\"feature 2\"])\n",
    "total_counts[\"counts\"] = [1]*len(total_counts)\n",
    "\n",
    "\n",
    "first_cat_probs = round((first_cat_counts.groupby(first_cat_counts[\"feature 2\"]).sum()\n",
    "                   /total_counts.groupby(total_counts[\"feature 2\"]).sum()).fillna(0),3)\n",
    "first_cat_probs = first_cat_probs.reset_index()                   \n",
    "first_cat_probs.columns = [\"feature 2\", \"cat 1 probs\"]"
   ]
  },
  {
   "cell_type": "markdown",
   "metadata": {},
   "source": [
    "### Probabilities of Category 1 article with respect to feature 2"
   ]
  },
  {
   "cell_type": "code",
   "execution_count": 22,
   "metadata": {},
   "outputs": [
    {
     "data": {
      "text/html": [
       "<div>\n",
       "<style scoped>\n",
       "    .dataframe tbody tr th:only-of-type {\n",
       "        vertical-align: middle;\n",
       "    }\n",
       "\n",
       "    .dataframe tbody tr th {\n",
       "        vertical-align: top;\n",
       "    }\n",
       "\n",
       "    .dataframe thead th {\n",
       "        text-align: right;\n",
       "    }\n",
       "</style>\n",
       "<table border=\"1\" class=\"dataframe\">\n",
       "  <thead>\n",
       "    <tr style=\"text-align: right;\">\n",
       "      <th></th>\n",
       "      <th>feature 2</th>\n",
       "      <th>cat 1 probs</th>\n",
       "    </tr>\n",
       "  </thead>\n",
       "  <tbody>\n",
       "    <tr>\n",
       "      <th>0</th>\n",
       "      <td>0.1</td>\n",
       "      <td>1.000</td>\n",
       "    </tr>\n",
       "    <tr>\n",
       "      <th>1</th>\n",
       "      <td>0.2</td>\n",
       "      <td>1.000</td>\n",
       "    </tr>\n",
       "    <tr>\n",
       "      <th>2</th>\n",
       "      <td>0.3</td>\n",
       "      <td>0.975</td>\n",
       "    </tr>\n",
       "    <tr>\n",
       "      <th>3</th>\n",
       "      <td>0.4</td>\n",
       "      <td>0.875</td>\n",
       "    </tr>\n",
       "    <tr>\n",
       "      <th>4</th>\n",
       "      <td>0.5</td>\n",
       "      <td>0.370</td>\n",
       "    </tr>\n",
       "    <tr>\n",
       "      <th>5</th>\n",
       "      <td>0.6</td>\n",
       "      <td>0.151</td>\n",
       "    </tr>\n",
       "    <tr>\n",
       "      <th>6</th>\n",
       "      <td>0.7</td>\n",
       "      <td>0.000</td>\n",
       "    </tr>\n",
       "    <tr>\n",
       "      <th>7</th>\n",
       "      <td>0.8</td>\n",
       "      <td>0.000</td>\n",
       "    </tr>\n",
       "    <tr>\n",
       "      <th>8</th>\n",
       "      <td>0.9</td>\n",
       "      <td>0.000</td>\n",
       "    </tr>\n",
       "    <tr>\n",
       "      <th>9</th>\n",
       "      <td>1.0</td>\n",
       "      <td>0.000</td>\n",
       "    </tr>\n",
       "  </tbody>\n",
       "</table>\n",
       "</div>"
      ],
      "text/plain": [
       "   feature 2  cat 1 probs\n",
       "0        0.1        1.000\n",
       "1        0.2        1.000\n",
       "2        0.3        0.975\n",
       "3        0.4        0.875\n",
       "4        0.5        0.370\n",
       "5        0.6        0.151\n",
       "6        0.7        0.000\n",
       "7        0.8        0.000\n",
       "8        0.9        0.000\n",
       "9        1.0        0.000"
      ]
     },
     "execution_count": 22,
     "metadata": {},
     "output_type": "execute_result"
    }
   ],
   "source": [
    "first_cat_probs"
   ]
  },
  {
   "cell_type": "markdown",
   "metadata": {},
   "source": [
    "## Evaluation of Model\n",
    "\n",
    "The model evaluation is provided with respect to Receiving Operating Characteristic (ROC), Area under ROC curve (AUC) and Precision-Recall (PR) curves"
   ]
  },
  {
   "cell_type": "code",
   "execution_count": 23,
   "metadata": {},
   "outputs": [],
   "source": [
    "feature_2_to_probs_dict = {row[\"feature 2\"]: row[\"cat 1 probs\"] for _, row in first_cat_probs.iterrows()}\n",
    "\n",
    "def roc_plot(fpr, tpr, auc, title):\n",
    "    plt.figure()\n",
    "    lw = 2\n",
    "    plt.plot(fpr, tpr, color=\"darkorange\",\n",
    "             lw=lw, label=\"ROC curve (area = %0.2f)\" % auc)\n",
    "    plt.plot([0, 1], [0, 1], color=\"navy\", lw=lw, linestyle=\"--\")\n",
    "    plt.xlim([0.0, 1.0])\n",
    "    plt.ylim([0.0, 1.05])\n",
    "    plt.xlabel(\"False Positive Rate\")\n",
    "    plt.ylabel(\"True Positive Rate\")\n",
    "    plt.title(title)\n",
    "    plt.legend(loc=\"lower right\")\n",
    "    plt.show()\n",
    "    \n",
    "def prec_racall_plot(precision, recall, title):\n",
    "    plt.figure()\n",
    "    plt.step(recall, precision, where='post')\n",
    "\n",
    "    plt.xlabel('Recall')\n",
    "    plt.ylabel('Precision')\n",
    "    plt.ylim([0.0, 1.05])\n",
    "    plt.xlim([0.0, 1.0])\n",
    "    plt.title(title)"
   ]
  },
  {
   "cell_type": "markdown",
   "metadata": {},
   "source": [
    "### Train Data"
   ]
  },
  {
   "cell_type": "code",
   "execution_count": 24,
   "metadata": {},
   "outputs": [
    {
     "data": {
      "image/png": "[encoded data removed]",
      "text/plain": [
       "<Figure size 432x288 with 1 Axes>"
      ]
     },
     "metadata": {
      "needs_background": "light"
     },
     "output_type": "display_data"
    }
   ],
   "source": [
    "train_preds = [feature_2_to_probs_dict[row[\"feature 2\"]] for _, row in train_df.iterrows()]\n",
    "fpr, tpr, _ = roc_curve(train_df[\"article\"], train_preds)\n",
    "roc_auc = auc(fpr, tpr)\n",
    "roc_plot(fpr,tpr,roc_auc, \"Training data ROC and AUC for Sports category\")"
   ]
  },
  {
   "cell_type": "code",
   "execution_count": 25,
   "metadata": {},
   "outputs": [
    {
     "data": {
      "image/png": "[encoded data removed]",
      "text/plain": [
       "<Figure size 432x288 with 1 Axes>"
      ]
     },
     "metadata": {
      "needs_background": "light"
     },
     "output_type": "display_data"
    }
   ],
   "source": [
    "precision, recall, _ = precision_recall_curve(train_df[\"article\"], train_preds)\n",
    "prec_racall_plot(precision, recall, \"Train data precision recall curve\")"
   ]
  },
  {
   "cell_type": "markdown",
   "metadata": {},
   "source": [
    "As seen from the plots, the model shows quite good classification results (0.93 AUC) with respect to the extremely simple structure and training data"
   ]
  },
  {
   "cell_type": "markdown",
   "metadata": {},
   "source": [
    "### Test Data"
   ]
  },
  {
   "cell_type": "code",
   "execution_count": 26,
   "metadata": {},
   "outputs": [
    {
     "data": {
      "image/png": "[encoded data removed]",
      "text/plain": [
       "<Figure size 432x288 with 1 Axes>"
      ]
     },
     "metadata": {
      "needs_background": "light"
     },
     "output_type": "display_data"
    }
   ],
   "source": [
    "test_preds = [feature_2_to_probs_dict[row[\"feature 2\"]] for _, row in test_df.iterrows()]\n",
    "fpr, tpr, _ = roc_curve(test_df[\"article\"], test_preds)\n",
    "roc_auc = auc(fpr, tpr)\n",
    "roc_plot(fpr,tpr,roc_auc, \"Test data ROC and AUC for Sports category\")"
   ]
  },
  {
   "cell_type": "code",
   "execution_count": 27,
   "metadata": {},
   "outputs": [
    {
     "data": {
      "image/png": "[encoded data removed]",
      "text/plain": [
       "<Figure size 432x288 with 1 Axes>"
      ]
     },
     "metadata": {
      "needs_background": "light"
     },
     "output_type": "display_data"
    }
   ],
   "source": [
    "precision, recall, _ = precision_recall_curve(test_df[\"article\"], test_preds)\n",
    "prec_racall_plot(precision, recall, \"Test data precision recall curve\")"
   ]
  },
  {
   "cell_type": "markdown",
   "metadata": {},
   "source": [
    "It is expected that the model will show slightly worse results on test data. However, the difference between training and testing stats is almost neglectable. Test data show classification stats as 0.92 AUC what is extremely good concerning such a simple model structure."
   ]
  },
  {
   "cell_type": "code",
   "execution_count": null,
   "metadata": {},
   "outputs": [],
   "source": []
  }
 ],
 "metadata": {
  "kernelspec": {
   "display_name": "Python 3",
   "language": "python",
   "name": "python3"
  },
  "language_info": {
   "codemirror_mode": {
    "name": "ipython",
    "version": 3
   },
   "file_extension": ".py",
   "mimetype": "text/x-python",
   "name": "python",
   "nbconvert_exporter": "python",
   "pygments_lexer": "ipython3",
   "version": "3.7.0"
  }
 },
 "nbformat": 4,
 "nbformat_minor": 4
}
